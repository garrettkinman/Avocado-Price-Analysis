{
 "cells": [
  {
   "cell_type": "code",
   "execution_count": 10,
   "metadata": {},
   "outputs": [],
   "source": [
    "using DataFrames\n",
    "using CSV"
   ]
  },
  {
   "cell_type": "code",
   "execution_count": 14,
   "metadata": {},
   "outputs": [
    {
     "data": {
      "text/plain": [
       "(200, 15)"
      ]
     },
     "execution_count": 14,
     "metadata": {},
     "output_type": "execute_result"
    }
   ],
   "source": [
    "ENV[\"COLUMNS\"], ENV[\"LINES\"] = 200, 15"
   ]
  },
  {
   "cell_type": "code",
   "execution_count": 15,
   "metadata": {},
   "outputs": [
    {
     "data": {
      "text/html": [
       "<table class=\"data-frame\"><thead><tr><th></th><th>Column1</th><th>Date</th><th>AveragePrice</th><th>Total Volume</th><th>4046</th><th>4225</th><th>4770</th><th>Total Bags</th><th>Small Bags</th><th>Large Bags</th><th>XLarge Bags</th><th>type</th><th>year</th><th>region</th></tr><tr><th></th><th>Int64</th><th>Date…</th><th>Float64</th><th>Float64</th><th>Float64</th><th>Float64</th><th>Float64</th><th>Float64</th><th>Float64</th><th>Float64</th><th>Float64</th><th>String</th><th>Int64</th><th>String</th></tr></thead><tbody><p>18,249 rows × 14 columns</p><tr><th>1</th><td>0</td><td>2015-12-27</td><td>1.33</td><td>64236.6</td><td>1036.74</td><td>54454.8</td><td>48.16</td><td>8696.87</td><td>8603.62</td><td>93.25</td><td>0.0</td><td>conventional</td><td>2015</td><td>Albany</td></tr><tr><th>2</th><td>1</td><td>2015-12-20</td><td>1.35</td><td>54877.0</td><td>674.28</td><td>44638.8</td><td>58.33</td><td>9505.56</td><td>9408.07</td><td>97.49</td><td>0.0</td><td>conventional</td><td>2015</td><td>Albany</td></tr><tr><th>3</th><td>2</td><td>2015-12-13</td><td>0.93</td><td>118220.0</td><td>794.7</td><td>109150.0</td><td>130.5</td><td>8145.35</td><td>8042.21</td><td>103.14</td><td>0.0</td><td>conventional</td><td>2015</td><td>Albany</td></tr><tr><th>4</th><td>3</td><td>2015-12-06</td><td>1.08</td><td>78992.1</td><td>1132.0</td><td>71976.4</td><td>72.58</td><td>5811.16</td><td>5677.4</td><td>133.76</td><td>0.0</td><td>conventional</td><td>2015</td><td>Albany</td></tr><tr><th>5</th><td>4</td><td>2015-11-29</td><td>1.28</td><td>51039.6</td><td>941.48</td><td>43838.4</td><td>75.78</td><td>6183.95</td><td>5986.26</td><td>197.69</td><td>0.0</td><td>conventional</td><td>2015</td><td>Albany</td></tr><tr><th>6</th><td>5</td><td>2015-11-22</td><td>1.26</td><td>55979.8</td><td>1184.27</td><td>48068.0</td><td>43.61</td><td>6683.91</td><td>6556.47</td><td>127.44</td><td>0.0</td><td>conventional</td><td>2015</td><td>Albany</td></tr><tr><th>7</th><td>6</td><td>2015-11-15</td><td>0.99</td><td>83453.8</td><td>1368.92</td><td>73672.7</td><td>93.26</td><td>8318.86</td><td>8196.81</td><td>122.05</td><td>0.0</td><td>conventional</td><td>2015</td><td>Albany</td></tr><tr><th>8</th><td>7</td><td>2015-11-08</td><td>0.98</td><td>109428.0</td><td>703.75</td><td>101815.0</td><td>80.0</td><td>6829.22</td><td>6266.85</td><td>562.37</td><td>0.0</td><td>conventional</td><td>2015</td><td>Albany</td></tr><tr><th>9</th><td>8</td><td>2015-11-01</td><td>1.02</td><td>99811.4</td><td>1022.15</td><td>87315.6</td><td>85.34</td><td>11388.4</td><td>11104.5</td><td>283.83</td><td>0.0</td><td>conventional</td><td>2015</td><td>Albany</td></tr><tr><th>10</th><td>9</td><td>2015-10-25</td><td>1.07</td><td>74338.8</td><td>842.4</td><td>64757.4</td><td>113.0</td><td>8625.92</td><td>8061.47</td><td>564.45</td><td>0.0</td><td>conventional</td><td>2015</td><td>Albany</td></tr><tr><th>11</th><td>10</td><td>2015-10-18</td><td>1.12</td><td>84843.4</td><td>924.86</td><td>75595.9</td><td>117.07</td><td>8205.66</td><td>7877.86</td><td>327.8</td><td>0.0</td><td>conventional</td><td>2015</td><td>Albany</td></tr><tr><th>12</th><td>11</td><td>2015-10-11</td><td>1.28</td><td>64489.2</td><td>1582.03</td><td>52677.9</td><td>105.32</td><td>10123.9</td><td>9866.27</td><td>257.63</td><td>0.0</td><td>conventional</td><td>2015</td><td>Albany</td></tr><tr><th>13</th><td>12</td><td>2015-10-04</td><td>1.31</td><td>61007.1</td><td>2268.32</td><td>49880.7</td><td>101.36</td><td>8756.75</td><td>8379.98</td><td>376.77</td><td>0.0</td><td>conventional</td><td>2015</td><td>Albany</td></tr><tr><th>14</th><td>13</td><td>2015-09-27</td><td>0.99</td><td>106803.0</td><td>1204.88</td><td>99409.2</td><td>154.84</td><td>6034.46</td><td>5888.87</td><td>145.59</td><td>0.0</td><td>conventional</td><td>2015</td><td>Albany</td></tr><tr><th>15</th><td>14</td><td>2015-09-20</td><td>1.33</td><td>69759.0</td><td>1028.03</td><td>59313.1</td><td>150.5</td><td>9267.36</td><td>8489.1</td><td>778.26</td><td>0.0</td><td>conventional</td><td>2015</td><td>Albany</td></tr><tr><th>&vellip;</th><td>&vellip;</td><td>&vellip;</td><td>&vellip;</td><td>&vellip;</td><td>&vellip;</td><td>&vellip;</td><td>&vellip;</td><td>&vellip;</td><td>&vellip;</td><td>&vellip;</td><td>&vellip;</td><td>&vellip;</td><td>&vellip;</td><td>&vellip;</td></tr></tbody></table>"
      ],
      "text/latex": [
       "\\begin{tabular}{r|cccccccccccccc}\n",
       "\t& Column1 & Date & AveragePrice & Total Volume & 4046 & 4225 & 4770 & Total Bags & Small Bags & Large Bags & XLarge Bags & type & year & region\\\\\n",
       "\t\\hline\n",
       "\t& Int64 & Date… & Float64 & Float64 & Float64 & Float64 & Float64 & Float64 & Float64 & Float64 & Float64 & String & Int64 & String\\\\\n",
       "\t\\hline\n",
       "\t1 & 0 & 2015-12-27 & 1.33 & 64236.6 & 1036.74 & 54454.8 & 48.16 & 8696.87 & 8603.62 & 93.25 & 0.0 & conventional & 2015 & Albany \\\\\n",
       "\t2 & 1 & 2015-12-20 & 1.35 & 54877.0 & 674.28 & 44638.8 & 58.33 & 9505.56 & 9408.07 & 97.49 & 0.0 & conventional & 2015 & Albany \\\\\n",
       "\t3 & 2 & 2015-12-13 & 0.93 & 118220.0 & 794.7 & 109150.0 & 130.5 & 8145.35 & 8042.21 & 103.14 & 0.0 & conventional & 2015 & Albany \\\\\n",
       "\t4 & 3 & 2015-12-06 & 1.08 & 78992.1 & 1132.0 & 71976.4 & 72.58 & 5811.16 & 5677.4 & 133.76 & 0.0 & conventional & 2015 & Albany \\\\\n",
       "\t5 & 4 & 2015-11-29 & 1.28 & 51039.6 & 941.48 & 43838.4 & 75.78 & 6183.95 & 5986.26 & 197.69 & 0.0 & conventional & 2015 & Albany \\\\\n",
       "\t6 & 5 & 2015-11-22 & 1.26 & 55979.8 & 1184.27 & 48068.0 & 43.61 & 6683.91 & 6556.47 & 127.44 & 0.0 & conventional & 2015 & Albany \\\\\n",
       "\t7 & 6 & 2015-11-15 & 0.99 & 83453.8 & 1368.92 & 73672.7 & 93.26 & 8318.86 & 8196.81 & 122.05 & 0.0 & conventional & 2015 & Albany \\\\\n",
       "\t8 & 7 & 2015-11-08 & 0.98 & 109428.0 & 703.75 & 101815.0 & 80.0 & 6829.22 & 6266.85 & 562.37 & 0.0 & conventional & 2015 & Albany \\\\\n",
       "\t9 & 8 & 2015-11-01 & 1.02 & 99811.4 & 1022.15 & 87315.6 & 85.34 & 11388.4 & 11104.5 & 283.83 & 0.0 & conventional & 2015 & Albany \\\\\n",
       "\t10 & 9 & 2015-10-25 & 1.07 & 74338.8 & 842.4 & 64757.4 & 113.0 & 8625.92 & 8061.47 & 564.45 & 0.0 & conventional & 2015 & Albany \\\\\n",
       "\t11 & 10 & 2015-10-18 & 1.12 & 84843.4 & 924.86 & 75595.9 & 117.07 & 8205.66 & 7877.86 & 327.8 & 0.0 & conventional & 2015 & Albany \\\\\n",
       "\t12 & 11 & 2015-10-11 & 1.28 & 64489.2 & 1582.03 & 52677.9 & 105.32 & 10123.9 & 9866.27 & 257.63 & 0.0 & conventional & 2015 & Albany \\\\\n",
       "\t13 & 12 & 2015-10-04 & 1.31 & 61007.1 & 2268.32 & 49880.7 & 101.36 & 8756.75 & 8379.98 & 376.77 & 0.0 & conventional & 2015 & Albany \\\\\n",
       "\t14 & 13 & 2015-09-27 & 0.99 & 106803.0 & 1204.88 & 99409.2 & 154.84 & 6034.46 & 5888.87 & 145.59 & 0.0 & conventional & 2015 & Albany \\\\\n",
       "\t15 & 14 & 2015-09-20 & 1.33 & 69759.0 & 1028.03 & 59313.1 & 150.5 & 9267.36 & 8489.1 & 778.26 & 0.0 & conventional & 2015 & Albany \\\\\n",
       "\t$\\dots$ & $\\dots$ & $\\dots$ & $\\dots$ & $\\dots$ & $\\dots$ & $\\dots$ & $\\dots$ & $\\dots$ & $\\dots$ & $\\dots$ & $\\dots$ & $\\dots$ & $\\dots$ & $\\dots$ \\\\\n",
       "\\end{tabular}\n"
      ],
      "text/plain": [
       "18249×14 DataFrame\n",
       "│ Row   │ Column1 │ Date       │ AveragePrice │ Total Volume │ 4046    │ 4225     │ 4770    │ Total Bags │ Small Bags │ Large Bags │ XLarge Bags │ type         │ year  │ region           │\n",
       "│       │ \u001b[90mInt64\u001b[39m   │ \u001b[90mDates.Date\u001b[39m │ \u001b[90mFloat64\u001b[39m      │ \u001b[90mFloat64\u001b[39m      │ \u001b[90mFloat64\u001b[39m │ \u001b[90mFloat64\u001b[39m  │ \u001b[90mFloat64\u001b[39m │ \u001b[90mFloat64\u001b[39m    │ \u001b[90mFloat64\u001b[39m    │ \u001b[90mFloat64\u001b[39m    │ \u001b[90mFloat64\u001b[39m     │ \u001b[90mString\u001b[39m       │ \u001b[90mInt64\u001b[39m │ \u001b[90mString\u001b[39m           │\n",
       "├───────┼─────────┼────────────┼──────────────┼──────────────┼─────────┼──────────┼─────────┼────────────┼────────────┼────────────┼─────────────┼──────────────┼───────┼──────────────────┤\n",
       "│ 1     │ 0       │ 2015-12-27 │ 1.33         │ 64236.6      │ 1036.74 │ 54454.8  │ 48.16   │ 8696.87    │ 8603.62    │ 93.25      │ 0.0         │ conventional │ 2015  │ Albany           │\n",
       "│ 2     │ 1       │ 2015-12-20 │ 1.35         │ 54877.0      │ 674.28  │ 44638.8  │ 58.33   │ 9505.56    │ 9408.07    │ 97.49      │ 0.0         │ conventional │ 2015  │ Albany           │\n",
       "│ 3     │ 2       │ 2015-12-13 │ 0.93         │ 118220.0     │ 794.7   │ 109150.0 │ 130.5   │ 8145.35    │ 8042.21    │ 103.14     │ 0.0         │ conventional │ 2015  │ Albany           │\n",
       "⋮\n",
       "│ 18246 │ 8       │ 2018-01-28 │ 1.71         │ 13888.0      │ 1191.7  │ 3431.5   │ 0.0     │ 9264.84    │ 8940.04    │ 324.8      │ 0.0         │ organic      │ 2018  │ WestTexNewMexico │\n",
       "│ 18247 │ 9       │ 2018-01-21 │ 1.87         │ 13766.8      │ 1191.92 │ 2452.79  │ 727.94  │ 9394.11    │ 9351.8     │ 42.31      │ 0.0         │ organic      │ 2018  │ WestTexNewMexico │\n",
       "│ 18248 │ 10      │ 2018-01-14 │ 1.93         │ 16205.2      │ 1527.63 │ 2981.04  │ 727.01  │ 10969.5    │ 10919.5    │ 50.0       │ 0.0         │ organic      │ 2018  │ WestTexNewMexico │\n",
       "│ 18249 │ 11      │ 2018-01-07 │ 1.62         │ 17489.6      │ 2894.77 │ 2356.13  │ 224.53  │ 12014.1    │ 11988.1    │ 26.01      │ 0.0         │ organic      │ 2018  │ WestTexNewMexico │"
      ]
     },
     "execution_count": 15,
     "metadata": {},
     "output_type": "execute_result"
    }
   ],
   "source": [
    "avocado_prices = CSV.read(\"avocado.csv\")"
   ]
  },
  {
   "cell_type": "code",
   "execution_count": 16,
   "metadata": {},
   "outputs": [
    {
     "data": {
      "text/html": [
       "<table class=\"data-frame\"><thead><tr><th></th><th>Column1</th><th>Date</th><th>AveragePrice</th><th>Total Volume</th><th>Small Hass</th><th>Large Hass</th><th>XLarge Hass</th><th>Total Bags</th><th>Small Bags</th><th>Large Bags</th><th>XLarge Bags</th><th>type</th><th>year</th><th>region</th></tr><tr><th></th><th>Int64</th><th>Date…</th><th>Float64</th><th>Float64</th><th>Float64</th><th>Float64</th><th>Float64</th><th>Float64</th><th>Float64</th><th>Float64</th><th>Float64</th><th>String</th><th>Int64</th><th>String</th></tr></thead><tbody><p>18,249 rows × 14 columns</p><tr><th>1</th><td>0</td><td>2015-12-27</td><td>1.33</td><td>64236.6</td><td>1036.74</td><td>54454.8</td><td>48.16</td><td>8696.87</td><td>8603.62</td><td>93.25</td><td>0.0</td><td>conventional</td><td>2015</td><td>Albany</td></tr><tr><th>2</th><td>1</td><td>2015-12-20</td><td>1.35</td><td>54877.0</td><td>674.28</td><td>44638.8</td><td>58.33</td><td>9505.56</td><td>9408.07</td><td>97.49</td><td>0.0</td><td>conventional</td><td>2015</td><td>Albany</td></tr><tr><th>3</th><td>2</td><td>2015-12-13</td><td>0.93</td><td>118220.0</td><td>794.7</td><td>109150.0</td><td>130.5</td><td>8145.35</td><td>8042.21</td><td>103.14</td><td>0.0</td><td>conventional</td><td>2015</td><td>Albany</td></tr><tr><th>4</th><td>3</td><td>2015-12-06</td><td>1.08</td><td>78992.1</td><td>1132.0</td><td>71976.4</td><td>72.58</td><td>5811.16</td><td>5677.4</td><td>133.76</td><td>0.0</td><td>conventional</td><td>2015</td><td>Albany</td></tr><tr><th>5</th><td>4</td><td>2015-11-29</td><td>1.28</td><td>51039.6</td><td>941.48</td><td>43838.4</td><td>75.78</td><td>6183.95</td><td>5986.26</td><td>197.69</td><td>0.0</td><td>conventional</td><td>2015</td><td>Albany</td></tr><tr><th>6</th><td>5</td><td>2015-11-22</td><td>1.26</td><td>55979.8</td><td>1184.27</td><td>48068.0</td><td>43.61</td><td>6683.91</td><td>6556.47</td><td>127.44</td><td>0.0</td><td>conventional</td><td>2015</td><td>Albany</td></tr><tr><th>7</th><td>6</td><td>2015-11-15</td><td>0.99</td><td>83453.8</td><td>1368.92</td><td>73672.7</td><td>93.26</td><td>8318.86</td><td>8196.81</td><td>122.05</td><td>0.0</td><td>conventional</td><td>2015</td><td>Albany</td></tr><tr><th>8</th><td>7</td><td>2015-11-08</td><td>0.98</td><td>109428.0</td><td>703.75</td><td>101815.0</td><td>80.0</td><td>6829.22</td><td>6266.85</td><td>562.37</td><td>0.0</td><td>conventional</td><td>2015</td><td>Albany</td></tr><tr><th>9</th><td>8</td><td>2015-11-01</td><td>1.02</td><td>99811.4</td><td>1022.15</td><td>87315.6</td><td>85.34</td><td>11388.4</td><td>11104.5</td><td>283.83</td><td>0.0</td><td>conventional</td><td>2015</td><td>Albany</td></tr><tr><th>10</th><td>9</td><td>2015-10-25</td><td>1.07</td><td>74338.8</td><td>842.4</td><td>64757.4</td><td>113.0</td><td>8625.92</td><td>8061.47</td><td>564.45</td><td>0.0</td><td>conventional</td><td>2015</td><td>Albany</td></tr><tr><th>11</th><td>10</td><td>2015-10-18</td><td>1.12</td><td>84843.4</td><td>924.86</td><td>75595.9</td><td>117.07</td><td>8205.66</td><td>7877.86</td><td>327.8</td><td>0.0</td><td>conventional</td><td>2015</td><td>Albany</td></tr><tr><th>12</th><td>11</td><td>2015-10-11</td><td>1.28</td><td>64489.2</td><td>1582.03</td><td>52677.9</td><td>105.32</td><td>10123.9</td><td>9866.27</td><td>257.63</td><td>0.0</td><td>conventional</td><td>2015</td><td>Albany</td></tr><tr><th>13</th><td>12</td><td>2015-10-04</td><td>1.31</td><td>61007.1</td><td>2268.32</td><td>49880.7</td><td>101.36</td><td>8756.75</td><td>8379.98</td><td>376.77</td><td>0.0</td><td>conventional</td><td>2015</td><td>Albany</td></tr><tr><th>14</th><td>13</td><td>2015-09-27</td><td>0.99</td><td>106803.0</td><td>1204.88</td><td>99409.2</td><td>154.84</td><td>6034.46</td><td>5888.87</td><td>145.59</td><td>0.0</td><td>conventional</td><td>2015</td><td>Albany</td></tr><tr><th>15</th><td>14</td><td>2015-09-20</td><td>1.33</td><td>69759.0</td><td>1028.03</td><td>59313.1</td><td>150.5</td><td>9267.36</td><td>8489.1</td><td>778.26</td><td>0.0</td><td>conventional</td><td>2015</td><td>Albany</td></tr><tr><th>&vellip;</th><td>&vellip;</td><td>&vellip;</td><td>&vellip;</td><td>&vellip;</td><td>&vellip;</td><td>&vellip;</td><td>&vellip;</td><td>&vellip;</td><td>&vellip;</td><td>&vellip;</td><td>&vellip;</td><td>&vellip;</td><td>&vellip;</td><td>&vellip;</td></tr></tbody></table>"
      ],
      "text/latex": [
       "\\begin{tabular}{r|cccccccccccccc}\n",
       "\t& Column1 & Date & AveragePrice & Total Volume & Small Hass & Large Hass & XLarge Hass & Total Bags & Small Bags & Large Bags & XLarge Bags & type & year & region\\\\\n",
       "\t\\hline\n",
       "\t& Int64 & Date… & Float64 & Float64 & Float64 & Float64 & Float64 & Float64 & Float64 & Float64 & Float64 & String & Int64 & String\\\\\n",
       "\t\\hline\n",
       "\t1 & 0 & 2015-12-27 & 1.33 & 64236.6 & 1036.74 & 54454.8 & 48.16 & 8696.87 & 8603.62 & 93.25 & 0.0 & conventional & 2015 & Albany \\\\\n",
       "\t2 & 1 & 2015-12-20 & 1.35 & 54877.0 & 674.28 & 44638.8 & 58.33 & 9505.56 & 9408.07 & 97.49 & 0.0 & conventional & 2015 & Albany \\\\\n",
       "\t3 & 2 & 2015-12-13 & 0.93 & 118220.0 & 794.7 & 109150.0 & 130.5 & 8145.35 & 8042.21 & 103.14 & 0.0 & conventional & 2015 & Albany \\\\\n",
       "\t4 & 3 & 2015-12-06 & 1.08 & 78992.1 & 1132.0 & 71976.4 & 72.58 & 5811.16 & 5677.4 & 133.76 & 0.0 & conventional & 2015 & Albany \\\\\n",
       "\t5 & 4 & 2015-11-29 & 1.28 & 51039.6 & 941.48 & 43838.4 & 75.78 & 6183.95 & 5986.26 & 197.69 & 0.0 & conventional & 2015 & Albany \\\\\n",
       "\t6 & 5 & 2015-11-22 & 1.26 & 55979.8 & 1184.27 & 48068.0 & 43.61 & 6683.91 & 6556.47 & 127.44 & 0.0 & conventional & 2015 & Albany \\\\\n",
       "\t7 & 6 & 2015-11-15 & 0.99 & 83453.8 & 1368.92 & 73672.7 & 93.26 & 8318.86 & 8196.81 & 122.05 & 0.0 & conventional & 2015 & Albany \\\\\n",
       "\t8 & 7 & 2015-11-08 & 0.98 & 109428.0 & 703.75 & 101815.0 & 80.0 & 6829.22 & 6266.85 & 562.37 & 0.0 & conventional & 2015 & Albany \\\\\n",
       "\t9 & 8 & 2015-11-01 & 1.02 & 99811.4 & 1022.15 & 87315.6 & 85.34 & 11388.4 & 11104.5 & 283.83 & 0.0 & conventional & 2015 & Albany \\\\\n",
       "\t10 & 9 & 2015-10-25 & 1.07 & 74338.8 & 842.4 & 64757.4 & 113.0 & 8625.92 & 8061.47 & 564.45 & 0.0 & conventional & 2015 & Albany \\\\\n",
       "\t11 & 10 & 2015-10-18 & 1.12 & 84843.4 & 924.86 & 75595.9 & 117.07 & 8205.66 & 7877.86 & 327.8 & 0.0 & conventional & 2015 & Albany \\\\\n",
       "\t12 & 11 & 2015-10-11 & 1.28 & 64489.2 & 1582.03 & 52677.9 & 105.32 & 10123.9 & 9866.27 & 257.63 & 0.0 & conventional & 2015 & Albany \\\\\n",
       "\t13 & 12 & 2015-10-04 & 1.31 & 61007.1 & 2268.32 & 49880.7 & 101.36 & 8756.75 & 8379.98 & 376.77 & 0.0 & conventional & 2015 & Albany \\\\\n",
       "\t14 & 13 & 2015-09-27 & 0.99 & 106803.0 & 1204.88 & 99409.2 & 154.84 & 6034.46 & 5888.87 & 145.59 & 0.0 & conventional & 2015 & Albany \\\\\n",
       "\t15 & 14 & 2015-09-20 & 1.33 & 69759.0 & 1028.03 & 59313.1 & 150.5 & 9267.36 & 8489.1 & 778.26 & 0.0 & conventional & 2015 & Albany \\\\\n",
       "\t$\\dots$ & $\\dots$ & $\\dots$ & $\\dots$ & $\\dots$ & $\\dots$ & $\\dots$ & $\\dots$ & $\\dots$ & $\\dots$ & $\\dots$ & $\\dots$ & $\\dots$ & $\\dots$ & $\\dots$ \\\\\n",
       "\\end{tabular}\n"
      ],
      "text/plain": [
       "18249×14 DataFrame\n",
       "│ Row   │ Column1 │ Date       │ AveragePrice │ Total Volume │ Small Hass │ Large Hass │ XLarge Hass │ Total Bags │ Small Bags │ Large Bags │ XLarge Bags │ type         │ year  │ region           │\n",
       "│       │ \u001b[90mInt64\u001b[39m   │ \u001b[90mDates.Date\u001b[39m │ \u001b[90mFloat64\u001b[39m      │ \u001b[90mFloat64\u001b[39m      │ \u001b[90mFloat64\u001b[39m    │ \u001b[90mFloat64\u001b[39m    │ \u001b[90mFloat64\u001b[39m     │ \u001b[90mFloat64\u001b[39m    │ \u001b[90mFloat64\u001b[39m    │ \u001b[90mFloat64\u001b[39m    │ \u001b[90mFloat64\u001b[39m     │ \u001b[90mString\u001b[39m       │ \u001b[90mInt64\u001b[39m │ \u001b[90mString\u001b[39m           │\n",
       "├───────┼─────────┼────────────┼──────────────┼──────────────┼────────────┼────────────┼─────────────┼────────────┼────────────┼────────────┼─────────────┼──────────────┼───────┼──────────────────┤\n",
       "│ 1     │ 0       │ 2015-12-27 │ 1.33         │ 64236.6      │ 1036.74    │ 54454.8    │ 48.16       │ 8696.87    │ 8603.62    │ 93.25      │ 0.0         │ conventional │ 2015  │ Albany           │\n",
       "│ 2     │ 1       │ 2015-12-20 │ 1.35         │ 54877.0      │ 674.28     │ 44638.8    │ 58.33       │ 9505.56    │ 9408.07    │ 97.49      │ 0.0         │ conventional │ 2015  │ Albany           │\n",
       "│ 3     │ 2       │ 2015-12-13 │ 0.93         │ 118220.0     │ 794.7      │ 109150.0   │ 130.5       │ 8145.35    │ 8042.21    │ 103.14     │ 0.0         │ conventional │ 2015  │ Albany           │\n",
       "⋮\n",
       "│ 18246 │ 8       │ 2018-01-28 │ 1.71         │ 13888.0      │ 1191.7     │ 3431.5     │ 0.0         │ 9264.84    │ 8940.04    │ 324.8      │ 0.0         │ organic      │ 2018  │ WestTexNewMexico │\n",
       "│ 18247 │ 9       │ 2018-01-21 │ 1.87         │ 13766.8      │ 1191.92    │ 2452.79    │ 727.94      │ 9394.11    │ 9351.8     │ 42.31      │ 0.0         │ organic      │ 2018  │ WestTexNewMexico │\n",
       "│ 18248 │ 10      │ 2018-01-14 │ 1.93         │ 16205.2      │ 1527.63    │ 2981.04    │ 727.01      │ 10969.5    │ 10919.5    │ 50.0       │ 0.0         │ organic      │ 2018  │ WestTexNewMexico │\n",
       "│ 18249 │ 11      │ 2018-01-07 │ 1.62         │ 17489.6      │ 2894.77    │ 2356.13    │ 224.53      │ 12014.1    │ 11988.1    │ 26.01      │ 0.0         │ organic      │ 2018  │ WestTexNewMexico │"
      ]
     },
     "execution_count": 16,
     "metadata": {},
     "output_type": "execute_result"
    }
   ],
   "source": [
    "rename!(avocado_prices, :\"4046\" => :\"Small Hass\", :\"4225\" => :\"Large Hass\", :\"4770\" => :\"XLarge Hass\")"
   ]
  },
  {
   "cell_type": "code",
   "execution_count": null,
   "metadata": {},
   "outputs": [],
   "source": []
  }
 ],
 "metadata": {
  "kernelspec": {
   "display_name": "JuliaPro_v1.4.2-1 1.4.2",
   "language": "julia",
   "name": "juliapro_v1.4.2-1-1.4"
  },
  "language_info": {
   "file_extension": ".jl",
   "mimetype": "application/julia",
   "name": "julia",
   "version": "1.4.2"
  }
 },
 "nbformat": 4,
 "nbformat_minor": 4
}
